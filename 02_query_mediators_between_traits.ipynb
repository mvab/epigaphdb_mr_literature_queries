{
 "cells": [
  {
   "cell_type": "markdown",
   "metadata": {},
   "source": [
    "# Query MR-EvE to identify potential mediators\n",
    "\n",
    "We can query MR-EvE relationships to extract potential mediators between an exposure and an outcome. The basic principle is similar to the example in `01_mr-eve_exposure_to_outcomes`. We run a query that essentially finds all two-step MR results, where step 1 outcomes intersect with step 2 exposures. The intersection traits are the potential mediators. This query has to be run with some p-value threshold to limit the output to plausible results.\n",
    "\n",
    "\n",
    "This type of query can be used to find not only mediators but also confounders, colliders, and reverse mediators. This can be achieved by tweaking the exposure/outcome relationships between the three traits in the query. See the EpiGraphDB page ([https://epigraphdb.org/confounder](https://epigraphdb.org/confounder)) dedicated to building these queries (use _Query_ tab to generate the appropriate query).\n"
   ]
  },
  {
   "cell_type": "markdown",
   "metadata": {},
   "source": [
    "### Example for querying mediaotrs\n",
    "\n",
    "In this example we assume that the evidence of effect in `exposure -> outcome` relationship has been validated (otherwise looking for mediators does not make sense)."
   ]
  },
  {
   "cell_type": "code",
   "execution_count": 8,
   "metadata": {},
   "outputs": [],
   "source": [
    "suppressPackageStartupMessages(library(dplyr))\n",
    "suppressPackageStartupMessages(library(epigraphdb))"
   ]
  },
  {
   "cell_type": "code",
   "execution_count": 5,
   "metadata": {},
   "outputs": [],
   "source": [
    "#  function that will export query result as a table\n",
    "query_epigraphdb_as_table <- function(query){\n",
    "  results_subset <- query_epigraphdb(\n",
    "    route = \"/cypher\",\n",
    "    params = list(query = query),\n",
    "    method = \"POST\",\n",
    "    mode = \"table\")\n",
    "}"
   ]
  },
  {
   "cell_type": "code",
   "execution_count": 13,
   "metadata": {},
   "outputs": [],
   "source": [
    "# specify exposure and outcome ids and p-value threshold for two-step MR steps\n",
    "exposure_id = \"prot-a-670\"\n",
    "outcome_id = \"ieu-a-1127\"\n",
    "\n",
    "pval_threshold_step1 = 0.01 # exposure -> mediator\n",
    "pval_threshold_step2 = 0.01 # mediator -> outcome"
   ]
  },
  {
   "cell_type": "code",
   "execution_count": 14,
   "metadata": {},
   "outputs": [],
   "source": [
    "mediator_query = paste0(\"\n",
    "    MATCH (med:Gwas)<-[r1:MR_EVE_MR]- (exposure:Gwas) -[r2:MR_EVE_MR]->(outcome:Gwas) <-[r3:MR_EVE_MR]-(med:Gwas) \n",
    "    WHERE exposure.id = '\", exposure_id, \"' \n",
    "    AND outcome.id = '\", outcome_id,\"' \n",
    "    AND (not (toLower(med.trait) contains 'breast')) \n",
    "    AND r1.pval < \", pval_threshold_step1, \" AND r3.pval < \", pval_threshold_step2, \" \n",
    "    AND med.id <> exposure.id \n",
    "    AND med.id <> outcome.id \n",
    "    AND exposure.id <> outcome.id \n",
    "    AND med.trait <> exposure.trait \n",
    "    AND med.trait <> outcome.trait \n",
    "    AND exposure.trait <> outcome.trait \n",
    "    RETURN  exposure {.id, .trait}, \n",
    "            outcome {.id, .trait},\n",
    "            med {.id, .trait}, \n",
    "            r1 {.b, .se, .pval, .method, .moescore},\n",
    "            r2 {.b, .se, .pval, .method, .moescore}, \n",
    "            r3 {.b, .se, .pval, .method, .moescore} ORDER BY r1.p\n",
    "    \")"
   ]
  },
  {
   "cell_type": "code",
   "execution_count": 15,
   "metadata": {},
   "outputs": [],
   "source": [
    "mediators = query_epigraphdb_as_table(mediator_query)"
   ]
  },
  {
   "cell_type": "code",
   "execution_count": 17,
   "metadata": {},
   "outputs": [
    {
     "data": {
      "text/html": [
       "<table class=\"dataframe\">\n",
       "<caption>A tibble: 6 × 21</caption>\n",
       "<thead>\n",
       "\t<tr><th scope=col>exposure.trait</th><th scope=col>exposure.id</th><th scope=col>outcome.trait</th><th scope=col>outcome.id</th><th scope=col>med.trait</th><th scope=col>med.id</th><th scope=col>r1.b</th><th scope=col>r1.se</th><th scope=col>r1.method</th><th scope=col>r1.pval</th><th scope=col>⋯</th><th scope=col>r2.se</th><th scope=col>r2.b</th><th scope=col>r2.method</th><th scope=col>r2.pval</th><th scope=col>r2.moescore</th><th scope=col>r3.se</th><th scope=col>r3.b</th><th scope=col>r3.method</th><th scope=col>r3.pval</th><th scope=col>r3.moescore</th></tr>\n",
       "\t<tr><th scope=col>&lt;chr&gt;</th><th scope=col>&lt;chr&gt;</th><th scope=col>&lt;chr&gt;</th><th scope=col>&lt;chr&gt;</th><th scope=col>&lt;chr&gt;</th><th scope=col>&lt;chr&gt;</th><th scope=col>&lt;dbl&gt;</th><th scope=col>&lt;dbl&gt;</th><th scope=col>&lt;chr&gt;</th><th scope=col>&lt;dbl&gt;</th><th scope=col>⋯</th><th scope=col>&lt;dbl&gt;</th><th scope=col>&lt;dbl&gt;</th><th scope=col>&lt;chr&gt;</th><th scope=col>&lt;dbl&gt;</th><th scope=col>&lt;dbl&gt;</th><th scope=col>&lt;dbl&gt;</th><th scope=col>&lt;dbl&gt;</th><th scope=col>&lt;chr&gt;</th><th scope=col>&lt;dbl&gt;</th><th scope=col>&lt;dbl&gt;</th></tr>\n",
       "</thead>\n",
       "<tbody>\n",
       "\t<tr><td>C-reactive protein</td><td>prot-a-670</td><td>ER+ Breast cancer (Combined Oncoarray; iCOGS; GWAS meta analysis)</td><td>ieu-a-1127</td><td>HDL cholesterol                                    </td><td>ukb-d-30760_raw </td><td> 0.012319200</td><td>0.002780567</td><td>FE IVW</td><td>9.403107e-06</td><td>⋯</td><td>0.02417862</td><td>0.06824084</td><td>FE IVW</td><td>0.004767127</td><td>1</td><td>0.08694217</td><td> 0.2376427</td><td>Penalised median</td><td>6.269509e-03</td><td>0.74</td></tr>\n",
       "\t<tr><td>C-reactive protein</td><td>prot-a-670</td><td>ER+ Breast cancer (Combined Oncoarray; iCOGS; GWAS meta analysis)</td><td>ieu-a-1127</td><td>HDL cholesterol                                    </td><td>ukb-d-30760_irnt</td><td> 0.037280011</td><td>0.007357905</td><td>FE IVW</td><td>4.048547e-07</td><td>⋯</td><td>0.02417862</td><td>0.06824084</td><td>FE IVW</td><td>0.004767127</td><td>1</td><td>0.02447639</td><td> 0.1000475</td><td>Simple mean     </td><td>5.935667e-05</td><td>0.70</td></tr>\n",
       "\t<tr><td>C-reactive protein</td><td>prot-a-670</td><td>ER+ Breast cancer (Combined Oncoarray; iCOGS; GWAS meta analysis)</td><td>ieu-a-1127</td><td>Impedance of arm (right)                           </td><td>ukb-b-7859      </td><td> 0.018535949</td><td>0.005073919</td><td>FE IVW</td><td>2.590103e-04</td><td>⋯</td><td>0.02417862</td><td>0.06824084</td><td>FE IVW</td><td>0.004767127</td><td>1</td><td>0.03194656</td><td> 0.1953487</td><td>FE IVW          </td><td>9.664238e-10</td><td>0.82</td></tr>\n",
       "\t<tr><td>C-reactive protein</td><td>prot-a-670</td><td>ER+ Breast cancer (Combined Oncoarray; iCOGS; GWAS meta analysis)</td><td>ieu-a-1127</td><td>Age last used hormone-replacement therapy (HRT)    </td><td>ukb-b-4564      </td><td> 0.035896891</td><td>0.013838204</td><td>FE IVW</td><td>9.485472e-03</td><td>⋯</td><td>0.02417862</td><td>0.06824084</td><td>FE IVW</td><td>0.004767127</td><td>1</td><td>0.11975685</td><td> 0.3710881</td><td>FE IVW          </td><td>1.943854e-03</td><td>1.00</td></tr>\n",
       "\t<tr><td>C-reactive protein</td><td>prot-a-670</td><td>ER+ Breast cancer (Combined Oncoarray; iCOGS; GWAS meta analysis)</td><td>ieu-a-1127</td><td>Illnesses of father: Alzheimer's disease/dementia  </td><td>ukb-b-323       </td><td> 0.004127199</td><td>0.001231144</td><td>FE IVW</td><td>8.013470e-04</td><td>⋯</td><td>0.02417862</td><td>0.06824084</td><td>FE IVW</td><td>0.004767127</td><td>1</td><td>0.14189943</td><td>-0.9494398</td><td>FE IVW          </td><td>2.217495e-11</td><td>1.00</td></tr>\n",
       "\t<tr><td>C-reactive protein</td><td>prot-a-670</td><td>ER+ Breast cancer (Combined Oncoarray; iCOGS; GWAS meta analysis)</td><td>ieu-a-1127</td><td>Never eat eggs, dairy, wheat, sugar: Wheat products</td><td>ukb-b-3599      </td><td>-0.001507927</td><td>0.000163362</td><td>FE IVW</td><td>2.691546e-20</td><td>⋯</td><td>0.02417862</td><td>0.06824084</td><td>FE IVW</td><td>0.004767127</td><td>1</td><td>0.19270422</td><td>-0.9401876</td><td>FE IVW          </td><td>1.066709e-06</td><td>1.00</td></tr>\n",
       "</tbody>\n",
       "</table>\n"
      ],
      "text/latex": [
       "A tibble: 6 × 21\n",
       "\\begin{tabular}{lllllllllllllllllllll}\n",
       " exposure.trait & exposure.id & outcome.trait & outcome.id & med.trait & med.id & r1.b & r1.se & r1.method & r1.pval & ⋯ & r2.se & r2.b & r2.method & r2.pval & r2.moescore & r3.se & r3.b & r3.method & r3.pval & r3.moescore\\\\\n",
       " <chr> & <chr> & <chr> & <chr> & <chr> & <chr> & <dbl> & <dbl> & <chr> & <dbl> & ⋯ & <dbl> & <dbl> & <chr> & <dbl> & <dbl> & <dbl> & <dbl> & <chr> & <dbl> & <dbl>\\\\\n",
       "\\hline\n",
       "\t C-reactive protein & prot-a-670 & ER+ Breast cancer (Combined Oncoarray; iCOGS; GWAS meta analysis) & ieu-a-1127 & HDL cholesterol                                     & ukb-d-30760\\_raw  &  0.012319200 & 0.002780567 & FE IVW & 9.403107e-06 & ⋯ & 0.02417862 & 0.06824084 & FE IVW & 0.004767127 & 1 & 0.08694217 &  0.2376427 & Penalised median & 6.269509e-03 & 0.74\\\\\n",
       "\t C-reactive protein & prot-a-670 & ER+ Breast cancer (Combined Oncoarray; iCOGS; GWAS meta analysis) & ieu-a-1127 & HDL cholesterol                                     & ukb-d-30760\\_irnt &  0.037280011 & 0.007357905 & FE IVW & 4.048547e-07 & ⋯ & 0.02417862 & 0.06824084 & FE IVW & 0.004767127 & 1 & 0.02447639 &  0.1000475 & Simple mean      & 5.935667e-05 & 0.70\\\\\n",
       "\t C-reactive protein & prot-a-670 & ER+ Breast cancer (Combined Oncoarray; iCOGS; GWAS meta analysis) & ieu-a-1127 & Impedance of arm (right)                            & ukb-b-7859       &  0.018535949 & 0.005073919 & FE IVW & 2.590103e-04 & ⋯ & 0.02417862 & 0.06824084 & FE IVW & 0.004767127 & 1 & 0.03194656 &  0.1953487 & FE IVW           & 9.664238e-10 & 0.82\\\\\n",
       "\t C-reactive protein & prot-a-670 & ER+ Breast cancer (Combined Oncoarray; iCOGS; GWAS meta analysis) & ieu-a-1127 & Age last used hormone-replacement therapy (HRT)     & ukb-b-4564       &  0.035896891 & 0.013838204 & FE IVW & 9.485472e-03 & ⋯ & 0.02417862 & 0.06824084 & FE IVW & 0.004767127 & 1 & 0.11975685 &  0.3710881 & FE IVW           & 1.943854e-03 & 1.00\\\\\n",
       "\t C-reactive protein & prot-a-670 & ER+ Breast cancer (Combined Oncoarray; iCOGS; GWAS meta analysis) & ieu-a-1127 & Illnesses of father: Alzheimer's disease/dementia   & ukb-b-323        &  0.004127199 & 0.001231144 & FE IVW & 8.013470e-04 & ⋯ & 0.02417862 & 0.06824084 & FE IVW & 0.004767127 & 1 & 0.14189943 & -0.9494398 & FE IVW           & 2.217495e-11 & 1.00\\\\\n",
       "\t C-reactive protein & prot-a-670 & ER+ Breast cancer (Combined Oncoarray; iCOGS; GWAS meta analysis) & ieu-a-1127 & Never eat eggs, dairy, wheat, sugar: Wheat products & ukb-b-3599       & -0.001507927 & 0.000163362 & FE IVW & 2.691546e-20 & ⋯ & 0.02417862 & 0.06824084 & FE IVW & 0.004767127 & 1 & 0.19270422 & -0.9401876 & FE IVW           & 1.066709e-06 & 1.00\\\\\n",
       "\\end{tabular}\n"
      ],
      "text/markdown": [
       "\n",
       "A tibble: 6 × 21\n",
       "\n",
       "| exposure.trait &lt;chr&gt; | exposure.id &lt;chr&gt; | outcome.trait &lt;chr&gt; | outcome.id &lt;chr&gt; | med.trait &lt;chr&gt; | med.id &lt;chr&gt; | r1.b &lt;dbl&gt; | r1.se &lt;dbl&gt; | r1.method &lt;chr&gt; | r1.pval &lt;dbl&gt; | ⋯ ⋯ | r2.se &lt;dbl&gt; | r2.b &lt;dbl&gt; | r2.method &lt;chr&gt; | r2.pval &lt;dbl&gt; | r2.moescore &lt;dbl&gt; | r3.se &lt;dbl&gt; | r3.b &lt;dbl&gt; | r3.method &lt;chr&gt; | r3.pval &lt;dbl&gt; | r3.moescore &lt;dbl&gt; |\n",
       "|---|---|---|---|---|---|---|---|---|---|---|---|---|---|---|---|---|---|---|---|---|\n",
       "| C-reactive protein | prot-a-670 | ER+ Breast cancer (Combined Oncoarray; iCOGS; GWAS meta analysis) | ieu-a-1127 | HDL cholesterol                                     | ukb-d-30760_raw  |  0.012319200 | 0.002780567 | FE IVW | 9.403107e-06 | ⋯ | 0.02417862 | 0.06824084 | FE IVW | 0.004767127 | 1 | 0.08694217 |  0.2376427 | Penalised median | 6.269509e-03 | 0.74 |\n",
       "| C-reactive protein | prot-a-670 | ER+ Breast cancer (Combined Oncoarray; iCOGS; GWAS meta analysis) | ieu-a-1127 | HDL cholesterol                                     | ukb-d-30760_irnt |  0.037280011 | 0.007357905 | FE IVW | 4.048547e-07 | ⋯ | 0.02417862 | 0.06824084 | FE IVW | 0.004767127 | 1 | 0.02447639 |  0.1000475 | Simple mean      | 5.935667e-05 | 0.70 |\n",
       "| C-reactive protein | prot-a-670 | ER+ Breast cancer (Combined Oncoarray; iCOGS; GWAS meta analysis) | ieu-a-1127 | Impedance of arm (right)                            | ukb-b-7859       |  0.018535949 | 0.005073919 | FE IVW | 2.590103e-04 | ⋯ | 0.02417862 | 0.06824084 | FE IVW | 0.004767127 | 1 | 0.03194656 |  0.1953487 | FE IVW           | 9.664238e-10 | 0.82 |\n",
       "| C-reactive protein | prot-a-670 | ER+ Breast cancer (Combined Oncoarray; iCOGS; GWAS meta analysis) | ieu-a-1127 | Age last used hormone-replacement therapy (HRT)     | ukb-b-4564       |  0.035896891 | 0.013838204 | FE IVW | 9.485472e-03 | ⋯ | 0.02417862 | 0.06824084 | FE IVW | 0.004767127 | 1 | 0.11975685 |  0.3710881 | FE IVW           | 1.943854e-03 | 1.00 |\n",
       "| C-reactive protein | prot-a-670 | ER+ Breast cancer (Combined Oncoarray; iCOGS; GWAS meta analysis) | ieu-a-1127 | Illnesses of father: Alzheimer's disease/dementia   | ukb-b-323        |  0.004127199 | 0.001231144 | FE IVW | 8.013470e-04 | ⋯ | 0.02417862 | 0.06824084 | FE IVW | 0.004767127 | 1 | 0.14189943 | -0.9494398 | FE IVW           | 2.217495e-11 | 1.00 |\n",
       "| C-reactive protein | prot-a-670 | ER+ Breast cancer (Combined Oncoarray; iCOGS; GWAS meta analysis) | ieu-a-1127 | Never eat eggs, dairy, wheat, sugar: Wheat products | ukb-b-3599       | -0.001507927 | 0.000163362 | FE IVW | 2.691546e-20 | ⋯ | 0.02417862 | 0.06824084 | FE IVW | 0.004767127 | 1 | 0.19270422 | -0.9401876 | FE IVW           | 1.066709e-06 | 1.00 |\n",
       "\n"
      ],
      "text/plain": [
       "  exposure.trait     exposure.id\n",
       "1 C-reactive protein prot-a-670 \n",
       "2 C-reactive protein prot-a-670 \n",
       "3 C-reactive protein prot-a-670 \n",
       "4 C-reactive protein prot-a-670 \n",
       "5 C-reactive protein prot-a-670 \n",
       "6 C-reactive protein prot-a-670 \n",
       "  outcome.trait                                                     outcome.id\n",
       "1 ER+ Breast cancer (Combined Oncoarray; iCOGS; GWAS meta analysis) ieu-a-1127\n",
       "2 ER+ Breast cancer (Combined Oncoarray; iCOGS; GWAS meta analysis) ieu-a-1127\n",
       "3 ER+ Breast cancer (Combined Oncoarray; iCOGS; GWAS meta analysis) ieu-a-1127\n",
       "4 ER+ Breast cancer (Combined Oncoarray; iCOGS; GWAS meta analysis) ieu-a-1127\n",
       "5 ER+ Breast cancer (Combined Oncoarray; iCOGS; GWAS meta analysis) ieu-a-1127\n",
       "6 ER+ Breast cancer (Combined Oncoarray; iCOGS; GWAS meta analysis) ieu-a-1127\n",
       "  med.trait                                           med.id          \n",
       "1 HDL cholesterol                                     ukb-d-30760_raw \n",
       "2 HDL cholesterol                                     ukb-d-30760_irnt\n",
       "3 Impedance of arm (right)                            ukb-b-7859      \n",
       "4 Age last used hormone-replacement therapy (HRT)     ukb-b-4564      \n",
       "5 Illnesses of father: Alzheimer's disease/dementia   ukb-b-323       \n",
       "6 Never eat eggs, dairy, wheat, sugar: Wheat products ukb-b-3599      \n",
       "  r1.b         r1.se       r1.method r1.pval      ⋯ r2.se      r2.b      \n",
       "1  0.012319200 0.002780567 FE IVW    9.403107e-06 ⋯ 0.02417862 0.06824084\n",
       "2  0.037280011 0.007357905 FE IVW    4.048547e-07 ⋯ 0.02417862 0.06824084\n",
       "3  0.018535949 0.005073919 FE IVW    2.590103e-04 ⋯ 0.02417862 0.06824084\n",
       "4  0.035896891 0.013838204 FE IVW    9.485472e-03 ⋯ 0.02417862 0.06824084\n",
       "5  0.004127199 0.001231144 FE IVW    8.013470e-04 ⋯ 0.02417862 0.06824084\n",
       "6 -0.001507927 0.000163362 FE IVW    2.691546e-20 ⋯ 0.02417862 0.06824084\n",
       "  r2.method r2.pval     r2.moescore r3.se      r3.b       r3.method       \n",
       "1 FE IVW    0.004767127 1           0.08694217  0.2376427 Penalised median\n",
       "2 FE IVW    0.004767127 1           0.02447639  0.1000475 Simple mean     \n",
       "3 FE IVW    0.004767127 1           0.03194656  0.1953487 FE IVW          \n",
       "4 FE IVW    0.004767127 1           0.11975685  0.3710881 FE IVW          \n",
       "5 FE IVW    0.004767127 1           0.14189943 -0.9494398 FE IVW          \n",
       "6 FE IVW    0.004767127 1           0.19270422 -0.9401876 FE IVW          \n",
       "  r3.pval      r3.moescore\n",
       "1 6.269509e-03 0.74       \n",
       "2 5.935667e-05 0.70       \n",
       "3 9.664238e-10 0.82       \n",
       "4 1.943854e-03 1.00       \n",
       "5 2.217495e-11 1.00       \n",
       "6 1.066709e-06 1.00       "
      ]
     },
     "metadata": {},
     "output_type": "display_data"
    }
   ],
   "source": [
    "head(mediators)"
   ]
  },
  {
   "cell_type": "markdown",
   "metadata": {},
   "source": [
    "In the results table,\n",
    "\n",
    "```\n",
    "r1 is exposure -> mediator\n",
    "r2 is exposure -> outcome\n",
    "r3 is mediator -> outcome\n",
    "```"
   ]
  }
 ],
 "metadata": {
  "kernelspec": {
   "display_name": "R",
   "language": "R",
   "name": "ir"
  },
  "language_info": {
   "codemirror_mode": "r",
   "file_extension": ".r",
   "mimetype": "text/x-r-source",
   "name": "R",
   "pygments_lexer": "r",
   "version": "4.1.2"
  }
 },
 "nbformat": 4,
 "nbformat_minor": 4
}
