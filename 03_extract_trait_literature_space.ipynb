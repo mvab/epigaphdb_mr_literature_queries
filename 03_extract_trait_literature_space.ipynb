{
 "cells": [
  {
   "cell_type": "markdown",
   "metadata": {},
   "source": [
    "# Extract literature space for a GWAS trait"
   ]
  },
  {
   "cell_type": "markdown",
   "metadata": {},
   "source": [
    "This script show how to run a query to extract a literature space of literature-mined triples for a GWAS trait from EpiGraphDB."
   ]
  },
  {
   "cell_type": "code",
   "execution_count": 1,
   "metadata": {},
   "outputs": [],
   "source": [
    "suppressPackageStartupMessages(library(dplyr))\n",
    "suppressPackageStartupMessages(library(epigraphdb))"
   ]
  },
  {
   "cell_type": "code",
   "execution_count": 3,
   "metadata": {},
   "outputs": [],
   "source": [
    "#  function that will export query result as a table\n",
    "query_epigraphdb_as_table <- function(query){\n",
    "  results_subset <- query_epigraphdb(\n",
    "    route = \"/cypher\",\n",
    "    params = list(query = query),\n",
    "    method = \"POST\",\n",
    "    mode = \"table\")\n",
    "}"
   ]
  },
  {
   "cell_type": "code",
   "execution_count": 14,
   "metadata": {},
   "outputs": [],
   "source": [
    "# set GWAS id\n",
    "gwas_id = 'prot-a-710' # cardiotrophin-1"
   ]
  },
  {
   "cell_type": "code",
   "execution_count": 15,
   "metadata": {},
   "outputs": [
    {
     "data": {
      "text/html": [
       "<style>\n",
       ".list-inline {list-style: none; margin:0; padding: 0}\n",
       ".list-inline>li {display: inline-block}\n",
       ".list-inline>li:not(:last-child)::after {content: \"\\00b7\"; padding: 0 .5ex}\n",
       "</style>\n",
       "<ol class=list-inline><li>280</li><li>14</li></ol>\n"
      ],
      "text/latex": [
       "\\begin{enumerate*}\n",
       "\\item 280\n",
       "\\item 14\n",
       "\\end{enumerate*}\n"
      ],
      "text/markdown": [
       "1. 280\n",
       "2. 14\n",
       "\n",
       "\n"
      ],
      "text/plain": [
       "[1] 280  14"
      ]
     },
     "metadata": {},
     "output_type": "display_data"
    }
   ],
   "source": [
    "# query for extracting a literature space of triples\n",
    "query =  paste0(\"\n",
    "    MATCH (gwas:Gwas)-[gs1:GWAS_TO_LITERATURE_TRIPLE]->(s1:LiteratureTriple) -[:SEMMEDDB_OBJ]->(st:LiteratureTerm)\n",
    "    WHERE gwas.id = '\", gwas_id, \"'\n",
    "    AND gs1.pval < 0.01\n",
    "    MATCH (s1)-[:SEMMEDDB_SUB]-(st1:LiteratureTerm) \n",
    "    MATCH (gwas)-[:GWAS_TO_LITERATURE]-(lit:Literature)-[]-(s1)\n",
    "    RETURN lit.id, lit.year,  gwas {.id, .trait}, \n",
    "    gs1 {.pval, .localCount}, st1 {.name, .type}, s1 {.id, .subject_id, .object_id, .predicate}, st {.name, .type}\n",
    "    \")\n",
    "litspace <- query_epigraphdb_as_table(query)"
   ]
  },
  {
   "cell_type": "code",
   "execution_count": 16,
   "metadata": {},
   "outputs": [
    {
     "data": {
      "text/html": [
       "<table class=\"dataframe\">\n",
       "<caption>A tibble: 6 × 14</caption>\n",
       "<thead>\n",
       "\t<tr><th scope=col>lit.id</th><th scope=col>lit.year</th><th scope=col>gwas.trait</th><th scope=col>gwas.id</th><th scope=col>gs1.localCount</th><th scope=col>gs1.pval</th><th scope=col>st1.name</th><th scope=col>st1.type</th><th scope=col>s1.subject_id</th><th scope=col>s1.predicate</th><th scope=col>s1.id</th><th scope=col>s1.object_id</th><th scope=col>st.name</th><th scope=col>st.type</th></tr>\n",
       "\t<tr><th scope=col>&lt;chr&gt;</th><th scope=col>&lt;int&gt;</th><th scope=col>&lt;chr&gt;</th><th scope=col>&lt;chr&gt;</th><th scope=col>&lt;int&gt;</th><th scope=col>&lt;dbl&gt;</th><th scope=col>&lt;chr&gt;</th><th scope=col>&lt;list&gt;</th><th scope=col>&lt;chr&gt;</th><th scope=col>&lt;chr&gt;</th><th scope=col>&lt;chr&gt;</th><th scope=col>&lt;chr&gt;</th><th scope=col>&lt;chr&gt;</th><th scope=col>&lt;list&gt;</th></tr>\n",
       "</thead>\n",
       "<tbody>\n",
       "\t<tr><td>11749038</td><td>2001</td><td>Cardiotrophin-1</td><td>prot-a-710</td><td>2</td><td>7.660981e-07</td><td>cytokine       </td><td>aapp, gngm</td><td>C0079189</td><td>STIMULATES     </td><td>C0079189:STIMULATES:C0044602     </td><td>C0044602</td><td>1-Phosphatidylinositol 3-Kinase</td><td>aapp, gngm, enzy</td></tr>\n",
       "\t<tr><td>22207116</td><td>2012</td><td>Cardiotrophin-1</td><td>prot-a-710</td><td>2</td><td>8.362033e-08</td><td>cardiotrophin 1</td><td>aapp, gngm</td><td>C0294361</td><td>ASSOCIATED_WITH</td><td>C0294361:ASSOCIATED_WITH:C1135196</td><td>C1135196</td><td>Diastolic heart failure        </td><td>dsyn</td></tr>\n",
       "\t<tr><td>15361284</td><td>2004</td><td>Cardiotrophin-1</td><td>prot-a-710</td><td>2</td><td>8.362033e-08</td><td>STAT3          </td><td>aapp, gngm</td><td>6774    </td><td>STIMULATES     </td><td>6774:STIMULATES:C0294361         </td><td>C0294361</td><td>cardiotrophin 1                </td><td>aapp, gngm</td></tr>\n",
       "\t<tr><td>15361284</td><td>2004</td><td>Cardiotrophin-1</td><td>prot-a-710</td><td>2</td><td>8.362033e-08</td><td>STAT3 gene     </td><td>aapp, gngm</td><td>C1367307</td><td>STIMULATES     </td><td>C1367307:STIMULATES:C0294361     </td><td>C0294361</td><td>cardiotrophin 1                </td><td>aapp, gngm</td></tr>\n",
       "\t<tr><td>16269246</td><td>2005</td><td>Cardiotrophin-1</td><td>prot-a-710</td><td>2</td><td>5.867606e-04</td><td>nesiritide     </td><td>aapp, gngm, phsu, horm</td><td>C0054015</td><td>ASSOCIATED_WITH</td><td>C0054015:ASSOCIATED_WITH:C0018801</td><td>C0018801</td><td>Heart failure                  </td><td>dsyn</td></tr>\n",
       "\t<tr><td>12948841</td><td>2003</td><td>Cardiotrophin-1</td><td>prot-a-710</td><td>2</td><td>5.867606e-04</td><td>nesiritide     </td><td>aapp, gngm, phsu, horm</td><td>C0054015</td><td>ASSOCIATED_WITH</td><td>C0054015:ASSOCIATED_WITH:C0018801</td><td>C0018801</td><td>Heart failure                  </td><td>dsyn</td></tr>\n",
       "</tbody>\n",
       "</table>\n"
      ],
      "text/latex": [
       "A tibble: 6 × 14\n",
       "\\begin{tabular}{llllllllllllll}\n",
       " lit.id & lit.year & gwas.trait & gwas.id & gs1.localCount & gs1.pval & st1.name & st1.type & s1.subject\\_id & s1.predicate & s1.id & s1.object\\_id & st.name & st.type\\\\\n",
       " <chr> & <int> & <chr> & <chr> & <int> & <dbl> & <chr> & <list> & <chr> & <chr> & <chr> & <chr> & <chr> & <list>\\\\\n",
       "\\hline\n",
       "\t 11749038 & 2001 & Cardiotrophin-1 & prot-a-710 & 2 & 7.660981e-07 & cytokine        & aapp, gngm & C0079189 & STIMULATES      & C0079189:STIMULATES:C0044602      & C0044602 & 1-Phosphatidylinositol 3-Kinase & aapp, gngm, enzy\\\\\n",
       "\t 22207116 & 2012 & Cardiotrophin-1 & prot-a-710 & 2 & 8.362033e-08 & cardiotrophin 1 & aapp, gngm & C0294361 & ASSOCIATED\\_WITH & C0294361:ASSOCIATED\\_WITH:C1135196 & C1135196 & Diastolic heart failure         & dsyn\\\\\n",
       "\t 15361284 & 2004 & Cardiotrophin-1 & prot-a-710 & 2 & 8.362033e-08 & STAT3           & aapp, gngm & 6774     & STIMULATES      & 6774:STIMULATES:C0294361          & C0294361 & cardiotrophin 1                 & aapp, gngm\\\\\n",
       "\t 15361284 & 2004 & Cardiotrophin-1 & prot-a-710 & 2 & 8.362033e-08 & STAT3 gene      & aapp, gngm & C1367307 & STIMULATES      & C1367307:STIMULATES:C0294361      & C0294361 & cardiotrophin 1                 & aapp, gngm\\\\\n",
       "\t 16269246 & 2005 & Cardiotrophin-1 & prot-a-710 & 2 & 5.867606e-04 & nesiritide      & aapp, gngm, phsu, horm & C0054015 & ASSOCIATED\\_WITH & C0054015:ASSOCIATED\\_WITH:C0018801 & C0018801 & Heart failure                   & dsyn\\\\\n",
       "\t 12948841 & 2003 & Cardiotrophin-1 & prot-a-710 & 2 & 5.867606e-04 & nesiritide      & aapp, gngm, phsu, horm & C0054015 & ASSOCIATED\\_WITH & C0054015:ASSOCIATED\\_WITH:C0018801 & C0018801 & Heart failure                   & dsyn\\\\\n",
       "\\end{tabular}\n"
      ],
      "text/markdown": [
       "\n",
       "A tibble: 6 × 14\n",
       "\n",
       "| lit.id &lt;chr&gt; | lit.year &lt;int&gt; | gwas.trait &lt;chr&gt; | gwas.id &lt;chr&gt; | gs1.localCount &lt;int&gt; | gs1.pval &lt;dbl&gt; | st1.name &lt;chr&gt; | st1.type &lt;list&gt; | s1.subject_id &lt;chr&gt; | s1.predicate &lt;chr&gt; | s1.id &lt;chr&gt; | s1.object_id &lt;chr&gt; | st.name &lt;chr&gt; | st.type &lt;list&gt; |\n",
       "|---|---|---|---|---|---|---|---|---|---|---|---|---|---|\n",
       "| 11749038 | 2001 | Cardiotrophin-1 | prot-a-710 | 2 | 7.660981e-07 | cytokine        | aapp, gngm | C0079189 | STIMULATES      | C0079189:STIMULATES:C0044602      | C0044602 | 1-Phosphatidylinositol 3-Kinase | aapp, gngm, enzy |\n",
       "| 22207116 | 2012 | Cardiotrophin-1 | prot-a-710 | 2 | 8.362033e-08 | cardiotrophin 1 | aapp, gngm | C0294361 | ASSOCIATED_WITH | C0294361:ASSOCIATED_WITH:C1135196 | C1135196 | Diastolic heart failure         | dsyn |\n",
       "| 15361284 | 2004 | Cardiotrophin-1 | prot-a-710 | 2 | 8.362033e-08 | STAT3           | aapp, gngm | 6774     | STIMULATES      | 6774:STIMULATES:C0294361          | C0294361 | cardiotrophin 1                 | aapp, gngm |\n",
       "| 15361284 | 2004 | Cardiotrophin-1 | prot-a-710 | 2 | 8.362033e-08 | STAT3 gene      | aapp, gngm | C1367307 | STIMULATES      | C1367307:STIMULATES:C0294361      | C0294361 | cardiotrophin 1                 | aapp, gngm |\n",
       "| 16269246 | 2005 | Cardiotrophin-1 | prot-a-710 | 2 | 5.867606e-04 | nesiritide      | aapp, gngm, phsu, horm | C0054015 | ASSOCIATED_WITH | C0054015:ASSOCIATED_WITH:C0018801 | C0018801 | Heart failure                   | dsyn |\n",
       "| 12948841 | 2003 | Cardiotrophin-1 | prot-a-710 | 2 | 5.867606e-04 | nesiritide      | aapp, gngm, phsu, horm | C0054015 | ASSOCIATED_WITH | C0054015:ASSOCIATED_WITH:C0018801 | C0018801 | Heart failure                   | dsyn |\n",
       "\n"
      ],
      "text/plain": [
       "  lit.id   lit.year gwas.trait      gwas.id    gs1.localCount gs1.pval    \n",
       "1 11749038 2001     Cardiotrophin-1 prot-a-710 2              7.660981e-07\n",
       "2 22207116 2012     Cardiotrophin-1 prot-a-710 2              8.362033e-08\n",
       "3 15361284 2004     Cardiotrophin-1 prot-a-710 2              8.362033e-08\n",
       "4 15361284 2004     Cardiotrophin-1 prot-a-710 2              8.362033e-08\n",
       "5 16269246 2005     Cardiotrophin-1 prot-a-710 2              5.867606e-04\n",
       "6 12948841 2003     Cardiotrophin-1 prot-a-710 2              5.867606e-04\n",
       "  st1.name        st1.type               s1.subject_id s1.predicate   \n",
       "1 cytokine        aapp, gngm             C0079189      STIMULATES     \n",
       "2 cardiotrophin 1 aapp, gngm             C0294361      ASSOCIATED_WITH\n",
       "3 STAT3           aapp, gngm             6774          STIMULATES     \n",
       "4 STAT3 gene      aapp, gngm             C1367307      STIMULATES     \n",
       "5 nesiritide      aapp, gngm, phsu, horm C0054015      ASSOCIATED_WITH\n",
       "6 nesiritide      aapp, gngm, phsu, horm C0054015      ASSOCIATED_WITH\n",
       "  s1.id                             s1.object_id\n",
       "1 C0079189:STIMULATES:C0044602      C0044602    \n",
       "2 C0294361:ASSOCIATED_WITH:C1135196 C1135196    \n",
       "3 6774:STIMULATES:C0294361          C0294361    \n",
       "4 C1367307:STIMULATES:C0294361      C0294361    \n",
       "5 C0054015:ASSOCIATED_WITH:C0018801 C0018801    \n",
       "6 C0054015:ASSOCIATED_WITH:C0018801 C0018801    \n",
       "  st.name                         st.type         \n",
       "1 1-Phosphatidylinositol 3-Kinase aapp, gngm, enzy\n",
       "2 Diastolic heart failure         dsyn            \n",
       "3 cardiotrophin 1                 aapp, gngm      \n",
       "4 cardiotrophin 1                 aapp, gngm      \n",
       "5 Heart failure                   dsyn            \n",
       "6 Heart failure                   dsyn            "
      ]
     },
     "metadata": {},
     "output_type": "display_data"
    }
   ],
   "source": [
    "head(litspace)"
   ]
  },
  {
   "cell_type": "markdown",
   "metadata": {},
   "source": [
    "NB: if a query takes a long time to run, it is likely that literature space for the selected trait is very large (and the query may not complete). It is possible to split the query into two steps to reduce the computational burden. See function [`extract_literature_space`](https://github.com/mvab/epigraphdb-breast-cancer/blob/main/R/02_literature_related/scripts/app3_sankey_app/functions_literature.R#L6) in literature data code in the main dev repo. "
   ]
  },
  {
   "cell_type": "code",
   "execution_count": 11,
   "metadata": {},
   "outputs": [],
   "source": [
    "# code for tidying 'type' columns (otherwise won't be able to save the df to file)\n",
    "litspace <- litspace %>% rowwise() %>% \n",
    "      mutate(st1.type = paste0(unlist(st1.type), collapse=\"/\")) %>%  \n",
    "      mutate(st.type = paste0(unlist(st.type), collapse=\"/\"))"
   ]
  },
  {
   "cell_type": "markdown",
   "metadata": {},
   "source": [
    "The extracted literature space may be difficult to work with due to multiple reduncancies in term/type names. Further tidying options are available in the main dev repo, e.g. staring with function [`tidy_lit_space`](https://github.com/mvab/epigraphdb-breast-cancer/blob/main/R/02_literature_related/scripts/app3_sankey_app/functions_literature.R#L86).\n",
    "\n",
    "_The code for literature data tidying and performing literature spaces overalap will be made available in a separate (more structured) tutorial / R package at a later date._"
   ]
  }
 ],
 "metadata": {
  "kernelspec": {
   "display_name": "R",
   "language": "R",
   "name": "ir"
  },
  "language_info": {
   "codemirror_mode": "r",
   "file_extension": ".r",
   "mimetype": "text/x-r-source",
   "name": "R",
   "pygments_lexer": "r",
   "version": "4.1.2"
  }
 },
 "nbformat": 4,
 "nbformat_minor": 4
}
