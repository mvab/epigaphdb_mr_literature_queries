{
 "cells": [
  {
   "cell_type": "markdown",
   "metadata": {},
   "source": [
    "## How to query EpiGraphDB to find all traits with effect on outcome of interest"
   ]
  },
  {
   "cell_type": "markdown",
   "metadata": {},
   "source": [
    "The basic examples of querying EpiGraphDB with `epigraphdb-r` R package are provided in the [\"Getting started\"](https://mrcieu.github.io/epigraphdb-r/articles/getting-started-with-epigraphdb-r.html#explore-mendelian-randomization-studies) guide.\n",
    "\n",
    "To collects all traits connected to an outcome of interest via MR-EvE, we need to perform a more complex query using Cypher that will be processed by `epigraphdb-r`. Some examples of this are provide in the guide's [_Advanced examples_ ](https://mrcieu.github.io/epigraphdb-r/articles/getting-started-with-epigraphdb-r.html#advanced-examples)."
   ]
  },
  {
   "cell_type": "code",
   "execution_count": 1,
   "metadata": {},
   "outputs": [],
   "source": [
    "suppressPackageStartupMessages(library(dplyr))\n",
    "suppressPackageStartupMessages(library(epigraphdb))"
   ]
  },
  {
   "cell_type": "code",
   "execution_count": 4,
   "metadata": {},
   "outputs": [],
   "source": [
    "#  function that will export query result as a table\n",
    "query_epigraphdb_as_table <- function(query){\n",
    "  results_subset <- query_epigraphdb(\n",
    "    route = \"/cypher\",\n",
    "    params = list(query = query),\n",
    "    method = \"POST\",\n",
    "    mode = \"table\")\n",
    "}"
   ]
  },
  {
   "cell_type": "markdown",
   "metadata": {},
   "source": [
    "### Basic query to extract all exposures for one outcome (`ieu-a-1126`):"
   ]
  },
  {
   "cell_type": "code",
   "execution_count": 18,
   "metadata": {},
   "outputs": [],
   "source": [
    "# query all MR results for the outcomes, not restricting by p-value\n",
    "query = \n",
    "  paste0(\"\n",
    "    MATCH (exposure:Gwas)-[mr:MR_EVE_MR]->(outcome:Gwas)\n",
    "    WHERE outcome.id = 'ieu-a-1126' \n",
    "    RETURN exposure.id, exposure.trait, outcome.id, \n",
    "              mr.pval, mr.b, mr.se, mr.nsnp,mr.method, mr.moescore\n",
    "    \") \n",
    "\n",
    "results <- query_epigraphdb_as_table(query)"
   ]
  },
  {
   "cell_type": "markdown",
   "metadata": {},
   "source": [
    "The query finds all `Gwas` nodes that are connected via `MR_EVE_MR` relationship; they form pairs of exposure and outcome GWAS. Then we subset the result to only have outcomes = `ieu-a-1126`. Next, we return specified columns of the query results."
   ]
  },
  {
   "cell_type": "code",
   "execution_count": 11,
   "metadata": {},
   "outputs": [
    {
     "data": {
      "text/html": [
       "<table class=\"dataframe\">\n",
       "<caption>A tibble: 6 × 9</caption>\n",
       "<thead>\n",
       "\t<tr><th scope=col>exposure.id</th><th scope=col>exposure.trait</th><th scope=col>outcome.id</th><th scope=col>mr.pval</th><th scope=col>mr.b</th><th scope=col>mr.se</th><th scope=col>mr.nsnp</th><th scope=col>mr.method</th><th scope=col>mr.moescore</th></tr>\n",
       "\t<tr><th scope=col>&lt;chr&gt;</th><th scope=col>&lt;chr&gt;</th><th scope=col>&lt;chr&gt;</th><th scope=col>&lt;dbl&gt;</th><th scope=col>&lt;dbl&gt;</th><th scope=col>&lt;dbl&gt;</th><th scope=col>&lt;int&gt;</th><th scope=col>&lt;chr&gt;</th><th scope=col>&lt;dbl&gt;</th></tr>\n",
       "</thead>\n",
       "<tbody>\n",
       "\t<tr><td>ukb-d-XIII_MUSCULOSKELET   </td><td>Diseases of the musculoskeletal system and connective tissue</td><td>ieu-a-1126</td><td>0.3858781</td><td> 0.30825968</td><td> 0.3554997</td><td> 5</td><td>FE IVW         </td><td>1.00</td></tr>\n",
       "\t<tr><td>ukb-d-XI_DIGESTIVE         </td><td>Diseases of the digestive system                            </td><td>ieu-a-1126</td><td>0.1808853</td><td> 0.62550974</td><td> 0.4674841</td><td> 3</td><td>FE IVW         </td><td>1.00</td></tr>\n",
       "\t<tr><td>ukb-d-PULM_MEDICATIO_COMORB</td><td>Medication related adverse effects (Asthma/COPD)            </td><td>ieu-a-1126</td><td>0.5327973</td><td>-0.41299666</td><td> 0.6621278</td><td>11</td><td>Weighted median</td><td>0.79</td></tr>\n",
       "\t<tr><td>ukb-d-RHEUMA_NOS           </td><td>Other/unspecified rheumatoid arthritis                      </td><td>ieu-a-1126</td><td>0.9915101</td><td> 0.01963965</td><td> 1.8457168</td><td> 5</td><td>FE IVW         </td><td>1.00</td></tr>\n",
       "\t<tr><td>ukb-d-ULCERNAS             </td><td>Ulcerative colitis, NAS                                     </td><td>ieu-a-1126</td><td>0.7811931</td><td> 0.73165480</td><td> 2.6340832</td><td> 5</td><td>FE IVW         </td><td>1.00</td></tr>\n",
       "\t<tr><td>ukb-d-M13_SOFTTISSUEOTH    </td><td>Other soft tissue disorders, not elsewhere classified       </td><td>ieu-a-1126</td><td>0.5000000</td><td>-2.67781029</td><td>-2.6778103</td><td> 1</td><td>Wald ratio     </td><td>1.00</td></tr>\n",
       "</tbody>\n",
       "</table>\n"
      ],
      "text/latex": [
       "A tibble: 6 × 9\n",
       "\\begin{tabular}{lllllllll}\n",
       " exposure.id & exposure.trait & outcome.id & mr.pval & mr.b & mr.se & mr.nsnp & mr.method & mr.moescore\\\\\n",
       " <chr> & <chr> & <chr> & <dbl> & <dbl> & <dbl> & <int> & <chr> & <dbl>\\\\\n",
       "\\hline\n",
       "\t ukb-d-XIII\\_MUSCULOSKELET    & Diseases of the musculoskeletal system and connective tissue & ieu-a-1126 & 0.3858781 &  0.30825968 &  0.3554997 &  5 & FE IVW          & 1.00\\\\\n",
       "\t ukb-d-XI\\_DIGESTIVE          & Diseases of the digestive system                             & ieu-a-1126 & 0.1808853 &  0.62550974 &  0.4674841 &  3 & FE IVW          & 1.00\\\\\n",
       "\t ukb-d-PULM\\_MEDICATIO\\_COMORB & Medication related adverse effects (Asthma/COPD)             & ieu-a-1126 & 0.5327973 & -0.41299666 &  0.6621278 & 11 & Weighted median & 0.79\\\\\n",
       "\t ukb-d-RHEUMA\\_NOS            & Other/unspecified rheumatoid arthritis                       & ieu-a-1126 & 0.9915101 &  0.01963965 &  1.8457168 &  5 & FE IVW          & 1.00\\\\\n",
       "\t ukb-d-ULCERNAS              & Ulcerative colitis, NAS                                      & ieu-a-1126 & 0.7811931 &  0.73165480 &  2.6340832 &  5 & FE IVW          & 1.00\\\\\n",
       "\t ukb-d-M13\\_SOFTTISSUEOTH     & Other soft tissue disorders, not elsewhere classified        & ieu-a-1126 & 0.5000000 & -2.67781029 & -2.6778103 &  1 & Wald ratio      & 1.00\\\\\n",
       "\\end{tabular}\n"
      ],
      "text/markdown": [
       "\n",
       "A tibble: 6 × 9\n",
       "\n",
       "| exposure.id &lt;chr&gt; | exposure.trait &lt;chr&gt; | outcome.id &lt;chr&gt; | mr.pval &lt;dbl&gt; | mr.b &lt;dbl&gt; | mr.se &lt;dbl&gt; | mr.nsnp &lt;int&gt; | mr.method &lt;chr&gt; | mr.moescore &lt;dbl&gt; |\n",
       "|---|---|---|---|---|---|---|---|---|\n",
       "| ukb-d-XIII_MUSCULOSKELET    | Diseases of the musculoskeletal system and connective tissue | ieu-a-1126 | 0.3858781 |  0.30825968 |  0.3554997 |  5 | FE IVW          | 1.00 |\n",
       "| ukb-d-XI_DIGESTIVE          | Diseases of the digestive system                             | ieu-a-1126 | 0.1808853 |  0.62550974 |  0.4674841 |  3 | FE IVW          | 1.00 |\n",
       "| ukb-d-PULM_MEDICATIO_COMORB | Medication related adverse effects (Asthma/COPD)             | ieu-a-1126 | 0.5327973 | -0.41299666 |  0.6621278 | 11 | Weighted median | 0.79 |\n",
       "| ukb-d-RHEUMA_NOS            | Other/unspecified rheumatoid arthritis                       | ieu-a-1126 | 0.9915101 |  0.01963965 |  1.8457168 |  5 | FE IVW          | 1.00 |\n",
       "| ukb-d-ULCERNAS              | Ulcerative colitis, NAS                                      | ieu-a-1126 | 0.7811931 |  0.73165480 |  2.6340832 |  5 | FE IVW          | 1.00 |\n",
       "| ukb-d-M13_SOFTTISSUEOTH     | Other soft tissue disorders, not elsewhere classified        | ieu-a-1126 | 0.5000000 | -2.67781029 | -2.6778103 |  1 | Wald ratio      | 1.00 |\n",
       "\n"
      ],
      "text/plain": [
       "  exposure.id                \n",
       "1 ukb-d-XIII_MUSCULOSKELET   \n",
       "2 ukb-d-XI_DIGESTIVE         \n",
       "3 ukb-d-PULM_MEDICATIO_COMORB\n",
       "4 ukb-d-RHEUMA_NOS           \n",
       "5 ukb-d-ULCERNAS             \n",
       "6 ukb-d-M13_SOFTTISSUEOTH    \n",
       "  exposure.trait                                               outcome.id\n",
       "1 Diseases of the musculoskeletal system and connective tissue ieu-a-1126\n",
       "2 Diseases of the digestive system                             ieu-a-1126\n",
       "3 Medication related adverse effects (Asthma/COPD)             ieu-a-1126\n",
       "4 Other/unspecified rheumatoid arthritis                       ieu-a-1126\n",
       "5 Ulcerative colitis, NAS                                      ieu-a-1126\n",
       "6 Other soft tissue disorders, not elsewhere classified        ieu-a-1126\n",
       "  mr.pval   mr.b        mr.se      mr.nsnp mr.method       mr.moescore\n",
       "1 0.3858781  0.30825968  0.3554997  5      FE IVW          1.00       \n",
       "2 0.1808853  0.62550974  0.4674841  3      FE IVW          1.00       \n",
       "3 0.5327973 -0.41299666  0.6621278 11      Weighted median 0.79       \n",
       "4 0.9915101  0.01963965  1.8457168  5      FE IVW          1.00       \n",
       "5 0.7811931  0.73165480  2.6340832  5      FE IVW          1.00       \n",
       "6 0.5000000 -2.67781029 -2.6778103  1      Wald ratio      1.00       "
      ]
     },
     "metadata": {},
     "output_type": "display_data"
    }
   ],
   "source": [
    "head(results)"
   ]
  },
  {
   "cell_type": "markdown",
   "metadata": {},
   "source": [
    "### Query to find all expsoures for multple outcomes\n",
    "\n",
    "Analogous query was run to collect all expsures (i.e. potential risk factors) for all available breast cancer outcome. Here we include three outcomes."
   ]
  },
  {
   "cell_type": "code",
   "execution_count": 20,
   "metadata": {},
   "outputs": [],
   "source": [
    "# list of outcome datasets\n",
    "outcomes_list <- c('ieu-a-1126', 'ieu-a-1127', 'ieu-a-1128')\n",
    "\n",
    "# query all MR results for the outcomes, not restricting by p-value\n",
    "query = \n",
    "  paste0(\"\n",
    "    MATCH (exposure:Gwas)-[mr:MR_EVE_MR]->(outcome:Gwas)\n",
    "    WHERE outcome.id in ['\", paste0(outcomes_list, collapse = \"', '\"),\"'] \n",
    "    AND  not exposure.id  in ['\", paste0(outcomes_list, collapse = \"', '\"),\"']\n",
    "    AND (not (toLower(exposure.trait) contains 'breast')) \n",
    "    AND mr.pval < 1\n",
    "    with mr, exposure, outcome\n",
    "    ORDER BY mr.pval \n",
    "    RETURN exposure.id, exposure.trait, exposure.sample_size, exposure.sex, exposure.note,\n",
    "          toInteger(exposure.year) as year, exposure.author as author, exposure.consortium as consortium,\n",
    "              outcome.id, outcome.sample_size, toInteger(outcome.ncase) as N_case, outcome.year, outcome.nsnp,\n",
    "              mr.pval, mr.b, mr.se,mr.nsnp,mr.method, mr.moescore\n",
    "    \") \n",
    "\n",
    "results_multiple <- query_epigraphdb_as_table(query)"
   ]
  },
  {
   "cell_type": "markdown",
   "metadata": {},
   "source": [
    "In the query, we subset all result to three breast cancer outcomes (`outcomes_list`), and we also make sure they are not present among the exposures. We also exclude all expsoure that have key word `breast` in them (e.g. other breast cancer GWAS that are not in our `outcomes_list`). Next, by setting `mr.pval < 1` we confirm that we want to extract all results (as we will do filtering later), although one can filter by p-value in the query too. Finally, in this query, we extract a lot more columns."
   ]
  },
  {
   "cell_type": "code",
   "execution_count": 21,
   "metadata": {},
   "outputs": [
    {
     "data": {
      "text/html": [
       "<table class=\"dataframe\">\n",
       "<caption>A tibble: 6 × 19</caption>\n",
       "<thead>\n",
       "\t<tr><th scope=col>exposure.id</th><th scope=col>exposure.trait</th><th scope=col>exposure.sample_size</th><th scope=col>exposure.sex</th><th scope=col>exposure.note</th><th scope=col>year</th><th scope=col>author</th><th scope=col>consortium</th><th scope=col>outcome.id</th><th scope=col>outcome.sample_size</th><th scope=col>N_case</th><th scope=col>outcome.year</th><th scope=col>outcome.nsnp</th><th scope=col>mr.pval</th><th scope=col>mr.b</th><th scope=col>mr.se</th><th scope=col>mr.nsnp</th><th scope=col>mr.method</th><th scope=col>mr.moescore</th></tr>\n",
       "\t<tr><th scope=col>&lt;chr&gt;</th><th scope=col>&lt;chr&gt;</th><th scope=col>&lt;chr&gt;</th><th scope=col>&lt;chr&gt;</th><th scope=col>&lt;chr&gt;</th><th scope=col>&lt;int&gt;</th><th scope=col>&lt;chr&gt;</th><th scope=col>&lt;chr&gt;</th><th scope=col>&lt;chr&gt;</th><th scope=col>&lt;chr&gt;</th><th scope=col>&lt;int&gt;</th><th scope=col>&lt;chr&gt;</th><th scope=col>&lt;chr&gt;</th><th scope=col>&lt;dbl&gt;</th><th scope=col>&lt;dbl&gt;</th><th scope=col>&lt;dbl&gt;</th><th scope=col>&lt;int&gt;</th><th scope=col>&lt;chr&gt;</th><th scope=col>&lt;dbl&gt;</th></tr>\n",
       "</thead>\n",
       "<tbody>\n",
       "\t<tr><td>ukb-d-20406</td><td>Ever addicted to alcohol                                                               </td><td>6514.0  </td><td>Males and Females</td><td>NA                                                                                  </td><td>2018</td><td>Neale lab   </td><td>NA       </td><td>ieu-a-1126</td><td>228951.0</td><td>122977</td><td>2017.0</td><td>10680257</td><td>0</td><td>-0.05482452</td><td>0.0010902995</td><td>2</td><td>FE IVW</td><td>1</td></tr>\n",
       "\t<tr><td>prot-a-2007</td><td>Neural cell adhesion molecule 1                                                        </td><td>3301.0  </td><td>Males and Females</td><td>NA                                                                                  </td><td>2018</td><td>Sun BB      </td><td>NA       </td><td>ieu-a-1127</td><td>175475.0</td><td> 69501</td><td>2017.0</td><td>10680257</td><td>0</td><td> 0.05072097</td><td>0.0009244511</td><td>2</td><td>FE IVW</td><td>1</td></tr>\n",
       "\t<tr><td>ukb-b-9127 </td><td>Illnesses of father: Chronic bronchitis/emphysema                                      </td><td>402389.0</td><td>Males and Females</td><td>20107#6: Output from GWAS pipeline using Phesant derived variables from UKBiobank   </td><td>2018</td><td>Ben Elsworth</td><td>MRC-IEU  </td><td>ieu-a-1127</td><td>175475.0</td><td> 69501</td><td>2017.0</td><td>10680257</td><td>0</td><td> 0.97293060</td><td>0.0082222730</td><td>2</td><td>FE IVW</td><td>1</td></tr>\n",
       "\t<tr><td>ukb-b-3672 </td><td>Diagnoses - secondary ICD10: K44.9 Diaphragmatic hernia without obstruction or gangrene</td><td>463010.0</td><td>Males and Females</td><td>41204#K449: Output from GWAS pipeline using Phesant derived variables from UKBiobank</td><td>2018</td><td>Ben Elsworth</td><td>MRC-IEU  </td><td>ieu-a-1127</td><td>175475.0</td><td> 69501</td><td>2017.0</td><td>10680257</td><td>0</td><td>-0.29575793</td><td>0.0051181577</td><td>2</td><td>FE IVW</td><td>1</td></tr>\n",
       "\t<tr><td>ukb-a-60   </td><td>Cancer code  self-reported: squamous cell carcinoma                                    </td><td>337159.0</td><td>Males and Females</td><td>NA                                                                                  </td><td>2017</td><td>Neale       </td><td>Neale Lab</td><td>ieu-a-1127</td><td>175475.0</td><td> 69501</td><td>2017.0</td><td>10680257</td><td>0</td><td> 2.05372125</td><td>0.0516566127</td><td>2</td><td>FE IVW</td><td>1</td></tr>\n",
       "\t<tr><td>ukb-a-295  </td><td>Chest pain or discomfort                                                               </td><td>334053.0</td><td>Males and Females</td><td>NA                                                                                  </td><td>2017</td><td>Neale       </td><td>Neale Lab</td><td>ieu-a-1128</td><td>127442.0</td><td> 21468</td><td>2017.0</td><td>10680257</td><td>0</td><td> 1.44514470</td><td>0.0121743415</td><td>2</td><td>FE IVW</td><td>1</td></tr>\n",
       "</tbody>\n",
       "</table>\n"
      ],
      "text/latex": [
       "A tibble: 6 × 19\n",
       "\\begin{tabular}{lllllllllllllllllll}\n",
       " exposure.id & exposure.trait & exposure.sample\\_size & exposure.sex & exposure.note & year & author & consortium & outcome.id & outcome.sample\\_size & N\\_case & outcome.year & outcome.nsnp & mr.pval & mr.b & mr.se & mr.nsnp & mr.method & mr.moescore\\\\\n",
       " <chr> & <chr> & <chr> & <chr> & <chr> & <int> & <chr> & <chr> & <chr> & <chr> & <int> & <chr> & <chr> & <dbl> & <dbl> & <dbl> & <int> & <chr> & <dbl>\\\\\n",
       "\\hline\n",
       "\t ukb-d-20406 & Ever addicted to alcohol                                                                & 6514.0   & Males and Females & NA                                                                                   & 2018 & Neale lab    & NA        & ieu-a-1126 & 228951.0 & 122977 & 2017.0 & 10680257 & 0 & -0.05482452 & 0.0010902995 & 2 & FE IVW & 1\\\\\n",
       "\t prot-a-2007 & Neural cell adhesion molecule 1                                                         & 3301.0   & Males and Females & NA                                                                                   & 2018 & Sun BB       & NA        & ieu-a-1127 & 175475.0 &  69501 & 2017.0 & 10680257 & 0 &  0.05072097 & 0.0009244511 & 2 & FE IVW & 1\\\\\n",
       "\t ukb-b-9127  & Illnesses of father: Chronic bronchitis/emphysema                                       & 402389.0 & Males and Females & 20107\\#6: Output from GWAS pipeline using Phesant derived variables from UKBiobank    & 2018 & Ben Elsworth & MRC-IEU   & ieu-a-1127 & 175475.0 &  69501 & 2017.0 & 10680257 & 0 &  0.97293060 & 0.0082222730 & 2 & FE IVW & 1\\\\\n",
       "\t ukb-b-3672  & Diagnoses - secondary ICD10: K44.9 Diaphragmatic hernia without obstruction or gangrene & 463010.0 & Males and Females & 41204\\#K449: Output from GWAS pipeline using Phesant derived variables from UKBiobank & 2018 & Ben Elsworth & MRC-IEU   & ieu-a-1127 & 175475.0 &  69501 & 2017.0 & 10680257 & 0 & -0.29575793 & 0.0051181577 & 2 & FE IVW & 1\\\\\n",
       "\t ukb-a-60    & Cancer code  self-reported: squamous cell carcinoma                                     & 337159.0 & Males and Females & NA                                                                                   & 2017 & Neale        & Neale Lab & ieu-a-1127 & 175475.0 &  69501 & 2017.0 & 10680257 & 0 &  2.05372125 & 0.0516566127 & 2 & FE IVW & 1\\\\\n",
       "\t ukb-a-295   & Chest pain or discomfort                                                                & 334053.0 & Males and Females & NA                                                                                   & 2017 & Neale        & Neale Lab & ieu-a-1128 & 127442.0 &  21468 & 2017.0 & 10680257 & 0 &  1.44514470 & 0.0121743415 & 2 & FE IVW & 1\\\\\n",
       "\\end{tabular}\n"
      ],
      "text/markdown": [
       "\n",
       "A tibble: 6 × 19\n",
       "\n",
       "| exposure.id &lt;chr&gt; | exposure.trait &lt;chr&gt; | exposure.sample_size &lt;chr&gt; | exposure.sex &lt;chr&gt; | exposure.note &lt;chr&gt; | year &lt;int&gt; | author &lt;chr&gt; | consortium &lt;chr&gt; | outcome.id &lt;chr&gt; | outcome.sample_size &lt;chr&gt; | N_case &lt;int&gt; | outcome.year &lt;chr&gt; | outcome.nsnp &lt;chr&gt; | mr.pval &lt;dbl&gt; | mr.b &lt;dbl&gt; | mr.se &lt;dbl&gt; | mr.nsnp &lt;int&gt; | mr.method &lt;chr&gt; | mr.moescore &lt;dbl&gt; |\n",
       "|---|---|---|---|---|---|---|---|---|---|---|---|---|---|---|---|---|---|---|\n",
       "| ukb-d-20406 | Ever addicted to alcohol                                                                | 6514.0   | Males and Females | NA                                                                                   | 2018 | Neale lab    | NA        | ieu-a-1126 | 228951.0 | 122977 | 2017.0 | 10680257 | 0 | -0.05482452 | 0.0010902995 | 2 | FE IVW | 1 |\n",
       "| prot-a-2007 | Neural cell adhesion molecule 1                                                         | 3301.0   | Males and Females | NA                                                                                   | 2018 | Sun BB       | NA        | ieu-a-1127 | 175475.0 |  69501 | 2017.0 | 10680257 | 0 |  0.05072097 | 0.0009244511 | 2 | FE IVW | 1 |\n",
       "| ukb-b-9127  | Illnesses of father: Chronic bronchitis/emphysema                                       | 402389.0 | Males and Females | 20107#6: Output from GWAS pipeline using Phesant derived variables from UKBiobank    | 2018 | Ben Elsworth | MRC-IEU   | ieu-a-1127 | 175475.0 |  69501 | 2017.0 | 10680257 | 0 |  0.97293060 | 0.0082222730 | 2 | FE IVW | 1 |\n",
       "| ukb-b-3672  | Diagnoses - secondary ICD10: K44.9 Diaphragmatic hernia without obstruction or gangrene | 463010.0 | Males and Females | 41204#K449: Output from GWAS pipeline using Phesant derived variables from UKBiobank | 2018 | Ben Elsworth | MRC-IEU   | ieu-a-1127 | 175475.0 |  69501 | 2017.0 | 10680257 | 0 | -0.29575793 | 0.0051181577 | 2 | FE IVW | 1 |\n",
       "| ukb-a-60    | Cancer code  self-reported: squamous cell carcinoma                                     | 337159.0 | Males and Females | NA                                                                                   | 2017 | Neale        | Neale Lab | ieu-a-1127 | 175475.0 |  69501 | 2017.0 | 10680257 | 0 |  2.05372125 | 0.0516566127 | 2 | FE IVW | 1 |\n",
       "| ukb-a-295   | Chest pain or discomfort                                                                | 334053.0 | Males and Females | NA                                                                                   | 2017 | Neale        | Neale Lab | ieu-a-1128 | 127442.0 |  21468 | 2017.0 | 10680257 | 0 |  1.44514470 | 0.0121743415 | 2 | FE IVW | 1 |\n",
       "\n"
      ],
      "text/plain": [
       "  exposure.id\n",
       "1 ukb-d-20406\n",
       "2 prot-a-2007\n",
       "3 ukb-b-9127 \n",
       "4 ukb-b-3672 \n",
       "5 ukb-a-60   \n",
       "6 ukb-a-295  \n",
       "  exposure.trait                                                                         \n",
       "1 Ever addicted to alcohol                                                               \n",
       "2 Neural cell adhesion molecule 1                                                        \n",
       "3 Illnesses of father: Chronic bronchitis/emphysema                                      \n",
       "4 Diagnoses - secondary ICD10: K44.9 Diaphragmatic hernia without obstruction or gangrene\n",
       "5 Cancer code  self-reported: squamous cell carcinoma                                    \n",
       "6 Chest pain or discomfort                                                               \n",
       "  exposure.sample_size exposure.sex     \n",
       "1 6514.0               Males and Females\n",
       "2 3301.0               Males and Females\n",
       "3 402389.0             Males and Females\n",
       "4 463010.0             Males and Females\n",
       "5 337159.0             Males and Females\n",
       "6 334053.0             Males and Females\n",
       "  exposure.note                                                                       \n",
       "1 NA                                                                                  \n",
       "2 NA                                                                                  \n",
       "3 20107#6: Output from GWAS pipeline using Phesant derived variables from UKBiobank   \n",
       "4 41204#K449: Output from GWAS pipeline using Phesant derived variables from UKBiobank\n",
       "5 NA                                                                                  \n",
       "6 NA                                                                                  \n",
       "  year author       consortium outcome.id outcome.sample_size N_case\n",
       "1 2018 Neale lab    NA         ieu-a-1126 228951.0            122977\n",
       "2 2018 Sun BB       NA         ieu-a-1127 175475.0             69501\n",
       "3 2018 Ben Elsworth MRC-IEU    ieu-a-1127 175475.0             69501\n",
       "4 2018 Ben Elsworth MRC-IEU    ieu-a-1127 175475.0             69501\n",
       "5 2017 Neale        Neale Lab  ieu-a-1127 175475.0             69501\n",
       "6 2017 Neale        Neale Lab  ieu-a-1128 127442.0             21468\n",
       "  outcome.year outcome.nsnp mr.pval mr.b        mr.se        mr.nsnp mr.method\n",
       "1 2017.0       10680257     0       -0.05482452 0.0010902995 2       FE IVW   \n",
       "2 2017.0       10680257     0        0.05072097 0.0009244511 2       FE IVW   \n",
       "3 2017.0       10680257     0        0.97293060 0.0082222730 2       FE IVW   \n",
       "4 2017.0       10680257     0       -0.29575793 0.0051181577 2       FE IVW   \n",
       "5 2017.0       10680257     0        2.05372125 0.0516566127 2       FE IVW   \n",
       "6 2017.0       10680257     0        1.44514470 0.0121743415 2       FE IVW   \n",
       "  mr.moescore\n",
       "1 1          \n",
       "2 1          \n",
       "3 1          \n",
       "4 1          \n",
       "5 1          \n",
       "6 1          "
      ]
     },
     "metadata": {},
     "output_type": "display_data"
    }
   ],
   "source": [
    "head(results_multiple)"
   ]
  },
  {
   "cell_type": "code",
   "execution_count": null,
   "metadata": {},
   "outputs": [],
   "source": []
  },
  {
   "cell_type": "code",
   "execution_count": null,
   "metadata": {},
   "outputs": [],
   "source": []
  }
 ],
 "metadata": {
  "kernelspec": {
   "display_name": "R",
   "language": "R",
   "name": "ir"
  },
  "language_info": {
   "codemirror_mode": "r",
   "file_extension": ".r",
   "mimetype": "text/x-r-source",
   "name": "R",
   "pygments_lexer": "r",
   "version": "4.1.2"
  }
 },
 "nbformat": 4,
 "nbformat_minor": 4
}
